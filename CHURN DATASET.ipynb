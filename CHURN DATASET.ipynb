{
 "cells": [
  {
   "cell_type": "code",
   "execution_count": 35,
   "id": "97471d6c",
   "metadata": {},
   "outputs": [],
   "source": [
    "import pandas as pd\n",
    "import numpy as np\n",
    "import matplotlib.pyplot as plt\n",
    "import seaborn as sns\n",
    "from sklearn.preprocessing import OneHotEncoder\n",
    "from category_encoders import OneHotEncoder\n",
    "from sklearn.preprocessing import LabelEncoder, StandardScaler\n",
    "from sklearn.model_selection import train_test_split\n",
    "from sklearn.linear_model import LogisticRegression\n",
    "from sklearn.preprocessing import LabelEncoder, StandardScaler\n",
    "from sklearn.metrics import classification_report, accuracy_score\n",
    "from sklearn.pipeline import Pipeline, make_pipeline\n",
    "from sklearn.preprocessing import OneHotEncoder, StandardScaler\n",
    "from sklearn.metrics import accuracy_score\n",
    "from sklearn.tree import DecisionTreeClassifier, plot_tree\n",
    "from zipfile import ZipFile"
   ]
  },
  {
   "cell_type": "markdown",
   "id": "c90a74ba",
   "metadata": {},
   "source": [
    "## Read in zip fil"
   ]
  },
  {
   "cell_type": "code",
   "execution_count": 63,
   "id": "b46779a6",
   "metadata": {},
   "outputs": [],
   "source": [
    "#read in file path\n",
    "zip_file_path = \"archive.zip\""
   ]
  },
  {
   "cell_type": "code",
   "execution_count": 64,
   "id": "217d2399",
   "metadata": {},
   "outputs": [
    {
     "name": "stdout",
     "output_type": "stream",
     "text": [
      "['Bank Customer Churn Prediction.csv']\n",
      "(10000, 12)\n"
     ]
    },
    {
     "data": {
      "text/html": [
       "<div>\n",
       "<style scoped>\n",
       "    .dataframe tbody tr th:only-of-type {\n",
       "        vertical-align: middle;\n",
       "    }\n",
       "\n",
       "    .dataframe tbody tr th {\n",
       "        vertical-align: top;\n",
       "    }\n",
       "\n",
       "    .dataframe thead th {\n",
       "        text-align: right;\n",
       "    }\n",
       "</style>\n",
       "<table border=\"1\" class=\"dataframe\">\n",
       "  <thead>\n",
       "    <tr style=\"text-align: right;\">\n",
       "      <th></th>\n",
       "      <th>customer_id</th>\n",
       "      <th>credit_score</th>\n",
       "      <th>country</th>\n",
       "      <th>gender</th>\n",
       "      <th>age</th>\n",
       "      <th>tenure</th>\n",
       "      <th>balance</th>\n",
       "      <th>products_number</th>\n",
       "      <th>credit_card</th>\n",
       "      <th>active_member</th>\n",
       "      <th>estimated_salary</th>\n",
       "      <th>churn</th>\n",
       "    </tr>\n",
       "  </thead>\n",
       "  <tbody>\n",
       "    <tr>\n",
       "      <th>0</th>\n",
       "      <td>15634602</td>\n",
       "      <td>619</td>\n",
       "      <td>France</td>\n",
       "      <td>Female</td>\n",
       "      <td>42</td>\n",
       "      <td>2</td>\n",
       "      <td>0.00</td>\n",
       "      <td>1</td>\n",
       "      <td>1</td>\n",
       "      <td>1</td>\n",
       "      <td>101348.88</td>\n",
       "      <td>1</td>\n",
       "    </tr>\n",
       "    <tr>\n",
       "      <th>1</th>\n",
       "      <td>15647311</td>\n",
       "      <td>608</td>\n",
       "      <td>Spain</td>\n",
       "      <td>Female</td>\n",
       "      <td>41</td>\n",
       "      <td>1</td>\n",
       "      <td>83807.86</td>\n",
       "      <td>1</td>\n",
       "      <td>0</td>\n",
       "      <td>1</td>\n",
       "      <td>112542.58</td>\n",
       "      <td>0</td>\n",
       "    </tr>\n",
       "    <tr>\n",
       "      <th>2</th>\n",
       "      <td>15619304</td>\n",
       "      <td>502</td>\n",
       "      <td>France</td>\n",
       "      <td>Female</td>\n",
       "      <td>42</td>\n",
       "      <td>8</td>\n",
       "      <td>159660.80</td>\n",
       "      <td>3</td>\n",
       "      <td>1</td>\n",
       "      <td>0</td>\n",
       "      <td>113931.57</td>\n",
       "      <td>1</td>\n",
       "    </tr>\n",
       "    <tr>\n",
       "      <th>3</th>\n",
       "      <td>15701354</td>\n",
       "      <td>699</td>\n",
       "      <td>France</td>\n",
       "      <td>Female</td>\n",
       "      <td>39</td>\n",
       "      <td>1</td>\n",
       "      <td>0.00</td>\n",
       "      <td>2</td>\n",
       "      <td>0</td>\n",
       "      <td>0</td>\n",
       "      <td>93826.63</td>\n",
       "      <td>0</td>\n",
       "    </tr>\n",
       "    <tr>\n",
       "      <th>4</th>\n",
       "      <td>15737888</td>\n",
       "      <td>850</td>\n",
       "      <td>Spain</td>\n",
       "      <td>Female</td>\n",
       "      <td>43</td>\n",
       "      <td>2</td>\n",
       "      <td>125510.82</td>\n",
       "      <td>1</td>\n",
       "      <td>1</td>\n",
       "      <td>1</td>\n",
       "      <td>79084.10</td>\n",
       "      <td>0</td>\n",
       "    </tr>\n",
       "  </tbody>\n",
       "</table>\n",
       "</div>"
      ],
      "text/plain": [
       "   customer_id  credit_score country  gender  age  tenure    balance  \\\n",
       "0     15634602           619  France  Female   42       2       0.00   \n",
       "1     15647311           608   Spain  Female   41       1   83807.86   \n",
       "2     15619304           502  France  Female   42       8  159660.80   \n",
       "3     15701354           699  France  Female   39       1       0.00   \n",
       "4     15737888           850   Spain  Female   43       2  125510.82   \n",
       "\n",
       "   products_number  credit_card  active_member  estimated_salary  churn  \n",
       "0                1            1              1         101348.88      1  \n",
       "1                1            0              1         112542.58      0  \n",
       "2                3            1              0         113931.57      1  \n",
       "3                2            0              0          93826.63      0  \n",
       "4                1            1              1          79084.10      0  "
      ]
     },
     "execution_count": 64,
     "metadata": {},
     "output_type": "execute_result"
    }
   ],
   "source": [
    "#open zipfile\n",
    "with ZipFile(zip_file_path) as z:\n",
    "    file_list = z.namelist()\n",
    "    print(file_list)\n",
    "    \n",
    "    with z.open('Bank Customer Churn Prediction.csv') as f:\n",
    "        df = pd.read_csv(f)\n",
    "print(df.shape)        \n",
    "df.head()"
   ]
  },
  {
   "cell_type": "code",
   "execution_count": 21,
   "id": "003f5d2d",
   "metadata": {},
   "outputs": [
    {
     "data": {
      "text/plain": [
       "customer_id         False\n",
       "credit_score        False\n",
       "country             False\n",
       "gender              False\n",
       "age                 False\n",
       "tenure              False\n",
       "balance             False\n",
       "products_number     False\n",
       "credit_card         False\n",
       "active_member       False\n",
       "estimated_salary    False\n",
       "churn               False\n",
       "dtype: bool"
      ]
     },
     "execution_count": 21,
     "metadata": {},
     "output_type": "execute_result"
    }
   ],
   "source": [
    "#check for missing values\n",
    "df.isnull().any()"
   ]
  },
  {
   "cell_type": "code",
   "execution_count": 22,
   "id": "3db85e96",
   "metadata": {},
   "outputs": [
    {
     "data": {
      "image/png": "[encoded data removed]",
      "text/plain": [
       "<Figure size 640x480 with 2 Axes>"
      ]
     },
     "metadata": {},
     "output_type": "display_data"
    }
   ],
   "source": [
    "# Create correlation matrix\n",
    "correlation = df.select_dtypes(\"number\").drop(columns=\"churn\").corr()\n",
    "# Plot heatmap of `correlation`\n",
    "sns.heatmap(correlation);"
   ]
  },
  {
   "cell_type": "code",
   "execution_count": 65,
   "id": "5f7d9a00",
   "metadata": {},
   "outputs": [
    {
     "data": {
      "text/plain": [
       "0    0.7963\n",
       "1    0.2037\n",
       "Name: churn, dtype: float64"
      ]
     },
     "execution_count": 65,
     "metadata": {},
     "output_type": "execute_result"
    }
   ],
   "source": [
    "#checking value counts of churn data\n",
    "df[\"churn\"].value_counts(normalize=True)"
   ]
  },
  {
   "cell_type": "code",
   "execution_count": 24,
   "id": "5aae826d",
   "metadata": {},
   "outputs": [
    {
     "data": {
      "image/png": "[encoded data removed]",
      "text/plain": [
       "<Figure size 640x480 with 1 Axes>"
      ]
     },
     "metadata": {},
     "output_type": "display_data"
    }
   ],
   "source": [
    "# Plot value counts of `\"churn\"`\n",
    "df[\"churn\"].value_counts(normalize=True).plot(\n",
    "    kind=\"bar\",\n",
    "    xlabel=\"Exit\",\n",
    "    ylabel=\"Relative Frequency\",\n",
    "    title=\"Class Balance\"\n",
    ");"
   ]
  },
  {
   "cell_type": "code",
   "execution_count": 25,
   "id": "26612c86",
   "metadata": {},
   "outputs": [
    {
     "data": {
      "text/plain": [
       "Male      0.5457\n",
       "Female    0.4543\n",
       "Name: gender, dtype: float64"
      ]
     },
     "execution_count": 25,
     "metadata": {},
     "output_type": "execute_result"
    }
   ],
   "source": [
    "#gender count\n",
    "gender_counts = df[\"gender\"].value_counts(normalize=True)\n",
    "gender_counts"
   ]
  },
  {
   "cell_type": "code",
   "execution_count": 26,
   "id": "ca4a773c",
   "metadata": {},
   "outputs": [
    {
     "data": {
      "text/html": [
       "<div>\n",
       "<style scoped>\n",
       "    .dataframe tbody tr th:only-of-type {\n",
       "        vertical-align: middle;\n",
       "    }\n",
       "\n",
       "    .dataframe tbody tr th {\n",
       "        vertical-align: top;\n",
       "    }\n",
       "\n",
       "    .dataframe thead th {\n",
       "        text-align: right;\n",
       "    }\n",
       "</style>\n",
       "<table border=\"1\" class=\"dataframe\">\n",
       "  <thead>\n",
       "    <tr style=\"text-align: right;\">\n",
       "      <th>churn</th>\n",
       "      <th>0</th>\n",
       "      <th>1</th>\n",
       "    </tr>\n",
       "    <tr>\n",
       "      <th>gender</th>\n",
       "      <th></th>\n",
       "      <th></th>\n",
       "    </tr>\n",
       "  </thead>\n",
       "  <tbody>\n",
       "    <tr>\n",
       "      <th>Female</th>\n",
       "      <td>0.749285</td>\n",
       "      <td>0.250715</td>\n",
       "    </tr>\n",
       "    <tr>\n",
       "      <th>Male</th>\n",
       "      <td>0.835441</td>\n",
       "      <td>0.164559</td>\n",
       "    </tr>\n",
       "  </tbody>\n",
       "</table>\n",
       "</div>"
      ],
      "text/plain": [
       "churn          0         1\n",
       "gender                    \n",
       "Female  0.749285  0.250715\n",
       "Male    0.835441  0.164559"
      ]
     },
     "execution_count": 26,
     "metadata": {},
     "output_type": "execute_result"
    }
   ],
   "source": [
    "#the distribution of churn (Exited) within each gender\n",
    "churn_by_gender = df.groupby(\"gender\")[\"churn\"].value_counts(normalize=True).unstack()\n",
    "churn_by_gender"
   ]
  },
  {
   "cell_type": "code",
   "execution_count": 27,
   "id": "2c0a8f30",
   "metadata": {},
   "outputs": [
    {
     "data": {
      "text/html": [
       "<div>\n",
       "<style scoped>\n",
       "    .dataframe tbody tr th:only-of-type {\n",
       "        vertical-align: middle;\n",
       "    }\n",
       "\n",
       "    .dataframe tbody tr th {\n",
       "        vertical-align: top;\n",
       "    }\n",
       "\n",
       "    .dataframe thead th {\n",
       "        text-align: right;\n",
       "    }\n",
       "</style>\n",
       "<table border=\"1\" class=\"dataframe\">\n",
       "  <thead>\n",
       "    <tr style=\"text-align: right;\">\n",
       "      <th></th>\n",
       "      <th>churn</th>\n",
       "    </tr>\n",
       "    <tr>\n",
       "      <th>country</th>\n",
       "      <th></th>\n",
       "    </tr>\n",
       "  </thead>\n",
       "  <tbody>\n",
       "    <tr>\n",
       "      <th>France</th>\n",
       "      <td>0.161548</td>\n",
       "    </tr>\n",
       "    <tr>\n",
       "      <th>Germany</th>\n",
       "      <td>0.324432</td>\n",
       "    </tr>\n",
       "    <tr>\n",
       "      <th>Spain</th>\n",
       "      <td>0.166734</td>\n",
       "    </tr>\n",
       "  </tbody>\n",
       "</table>\n",
       "</div>"
      ],
      "text/plain": [
       "            churn\n",
       "country          \n",
       "France   0.161548\n",
       "Germany  0.324432\n",
       "Spain    0.166734"
      ]
     },
     "execution_count": 27,
     "metadata": {},
     "output_type": "execute_result"
    }
   ],
   "source": [
    "roof_pivot = pd.pivot_table(\n",
    "    df,\n",
    "    index=\"country\",\n",
    "    values=\"churn\",\n",
    "    aggfunc=np.mean\n",
    ")\n",
    "roof_pivot"
   ]
  },
  {
   "cell_type": "markdown",
   "id": "dc315c59",
   "metadata": {},
   "source": [
    "## Data splitting "
   ]
  },
  {
   "cell_type": "code",
   "execution_count": 28,
   "id": "cc79671b",
   "metadata": {},
   "outputs": [],
   "source": [
    "target = \"churn\"\n",
    "X = df.drop(columns=[target, \"customer_id\", \"gender\", \"country\"])\n",
    "y = df[target]"
   ]
  },
  {
   "cell_type": "code",
   "execution_count": 29,
   "id": "51197a7c",
   "metadata": {},
   "outputs": [
    {
     "name": "stdout",
     "output_type": "stream",
     "text": [
      "X_train shape: (8000, 8)\n",
      "y_train shape: (8000,)\n",
      "X_test shape: (2000, 8)\n",
      "y_test shape: (2000,)\n"
     ]
    }
   ],
   "source": [
    "X_train, X_test, y_train, y_test = train_test_split(\n",
    "    X, y, test_size=0.2, random_state=42\n",
    ")\n",
    "\n",
    "print(\"X_train shape:\", X_train.shape)\n",
    "print(\"y_train shape:\", y_train.shape)\n",
    "print(\"X_test shape:\", X_test.shape)\n",
    "print(\"y_test shape:\", y_test.shape)"
   ]
  },
  {
   "cell_type": "markdown",
   "id": "c8e75e00",
   "metadata": {},
   "source": [
    "## Baseline model"
   ]
  },
  {
   "cell_type": "code",
   "execution_count": 30,
   "id": "690beca0",
   "metadata": {},
   "outputs": [
    {
     "name": "stdout",
     "output_type": "stream",
     "text": [
      "Baseline Accuracy: 0.79\n"
     ]
    }
   ],
   "source": [
    "acc_baseline = y_train.value_counts(normalize=True).max()\n",
    "print(\"Baseline Accuracy:\", round(acc_baseline, 2))"
   ]
  },
  {
   "cell_type": "code",
   "execution_count": 31,
   "id": "cacf67d8",
   "metadata": {},
   "outputs": [
    {
     "data": {
      "text/plain": [
       "Pipeline(steps=[('standardscaler', StandardScaler()),\n",
       "                ('logisticregression', LogisticRegression(max_iter=1000))])"
      ]
     },
     "execution_count": 31,
     "metadata": {},
     "output_type": "execute_result"
    }
   ],
   "source": [
    "model = make_pipeline(\n",
    "    StandardScaler(),\n",
    "    LogisticRegression(max_iter=1000)\n",
    ")\n",
    "model.fit(X_train, y_train)"
   ]
  },
  {
   "cell_type": "code",
   "execution_count": 66,
   "id": "cbe13db5",
   "metadata": {},
   "outputs": [
    {
     "name": "stdout",
     "output_type": "stream",
     "text": [
      "Training Accuracy: 0.81\n",
      "Test Accuracy: 0.81\n"
     ]
    }
   ],
   "source": [
    "acc_train = model.score(X_train, y_train)\n",
    "acc_test = model.score(X_test, y_test)\n",
    "print(\"Training Accuracy:\", round(acc_train, 2))\n",
    "print(\"Test Accuracy:\", round(acc_test, 2))"
   ]
  },
  {
   "cell_type": "code",
   "execution_count": 70,
   "id": "d480cb58",
   "metadata": {},
   "outputs": [
    {
     "data": {
      "text/plain": [
       "array([0, 0, 0, 0, 0, 0, 0, 0, 0, 0, 0, 0, 0, 0, 0, 0, 0, 0, 0, 0, 0, 0,\n",
       "       0, 0, 0, 0, 0, 0, 0, 0, 0, 0, 0, 0, 0, 1, 0, 0, 0, 0, 0, 0, 0, 0,\n",
       "       0, 0, 0, 0, 0, 0, 0, 0, 0, 0, 0, 0, 0, 0, 0, 0, 0, 0, 0, 0, 0, 0,\n",
       "       0, 1, 0, 0, 0, 0, 0, 0, 0, 0, 0, 0, 0, 0, 0, 1, 0, 0, 0, 0, 0, 0,\n",
       "       0, 0, 0, 0, 0, 0, 0, 0, 0, 0, 0, 0], dtype=int64)"
      ]
     },
     "execution_count": 70,
     "metadata": {},
     "output_type": "execute_result"
    }
   ],
   "source": [
    "# Predict on the test data\n",
    "y_pred = model.predict(X_test)\n",
    "y_pred[:100]"
   ]
  },
  {
   "cell_type": "code",
   "execution_count": 71,
   "id": "9b277190",
   "metadata": {},
   "outputs": [
    {
     "data": {
      "text/plain": [
       "DecisionTreeClassifier(random_state=42)"
      ]
     },
     "execution_count": 71,
     "metadata": {},
     "output_type": "execute_result"
    }
   ],
   "source": [
    "#decision tree model\n",
    "model_1 = DecisionTreeClassifier(random_state=42)\n",
    "model_1.fit(X_train, y_train)"
   ]
  },
  {
   "cell_type": "code",
   "execution_count": 73,
   "id": "79fa69a6",
   "metadata": {},
   "outputs": [
    {
     "name": "stdout",
     "output_type": "stream",
     "text": [
      "Training Accuracy: 1.0\n",
      "Test Accuracy: 0.78\n"
     ]
    }
   ],
   "source": [
    "#accuracy score for train and test set\n",
    "act_train = model_1.score(X_train, y_train)\n",
    "act_test = model_1.score(X_test, y_test)\n",
    "print(\"Training Accuracy:\", round(act_train, 2))\n",
    "print(\"Test Accuracy:\", round(act_test, 2))"
   ]
  },
  {
   "cell_type": "code",
   "execution_count": 74,
   "id": "1ad40140",
   "metadata": {},
   "outputs": [
    {
     "name": "stdout",
     "output_type": "stream",
     "text": [
      "Tree Depth: 30\n"
     ]
    }
   ],
   "source": [
    "#getting tree depth \n",
    "tree_depth = model_1.get_depth()\n",
    "print(\"Tree Depth:\", tree_depth)"
   ]
  },
  {
   "cell_type": "code",
   "execution_count": 75,
   "id": "a1e983e3",
   "metadata": {},
   "outputs": [],
   "source": [
    "#hyperparameter turning\n",
    "depth_hyperparams = range(1, 29, 2)"
   ]
  },
  {
   "cell_type": "code",
   "execution_count": 78,
   "id": "83aa7659",
   "metadata": {},
   "outputs": [],
   "source": [
    "# Create empty lists for training and testing accuracy scores\n",
    "training_acc = []\n",
    "testing_acc = []\n",
    "\n",
    "for d in depth_hyperparams:\n",
    "    # Create model with `max_depth` of `d`\n",
    "    test_model = DecisionTreeClassifier(max_depth=d, random_state=42)\n",
    "    # Fit model to training data\n",
    "    test_model.fit(X_train, y_train)\n",
    "    # Calculate training accuracy score and append to `training_acc`\n",
    "    training_acc.append(test_model.score(X_train, y_train))\n",
    "    # Calculate testing accuracy score and append to `training_acc`\n",
    "    testing_acc.append(test_model.score(X_test, y_test))"
   ]
  },
  {
   "cell_type": "code",
   "execution_count": 80,
   "id": "417779f7",
   "metadata": {},
   "outputs": [
    {
     "name": "stdout",
     "output_type": "stream",
     "text": [
      "Training Accuracy Scores: [0.7945, 0.8455, 0.859375]\n",
      "test Accuracy Scores: [0.8035, 0.8485, 0.858]\n"
     ]
    }
   ],
   "source": [
    "print(\"Training Accuracy Scores:\", training_acc[:3])\n",
    "print(\"test Accuracy Scores:\", validation_acc[:3])"
   ]
  },
  {
   "cell_type": "code",
   "execution_count": 82,
   "id": "cc45bbab",
   "metadata": {},
   "outputs": [
    {
     "data": {
      "image/png": "[encoded data removed]",
      "text/plain": [
       "<Figure size 640x480 with 1 Axes>"
      ]
     },
     "metadata": {},
     "output_type": "display_data"
    }
   ],
   "source": [
    "# Plot `depth_hyperparams`, `training_acc`\n",
    "plt.plot(depth_hyperparams, training_acc, label=\"training\")\n",
    "plt.plot(depth_hyperparams, testing_acc, label=\"testing\")\n",
    "plt.xlabel(\"Max depth\")\n",
    "plt.ylabel(\"Accuracy score\")\n",
    "plt.legend();"
   ]
  },
  {
   "cell_type": "code",
   "execution_count": 83,
   "id": "e984ab73",
   "metadata": {},
   "outputs": [
    {
     "name": "stdout",
     "output_type": "stream",
     "text": [
      "Best max_depth: 5\n"
     ]
    }
   ],
   "source": [
    "best_depth_index = np.argmax(testing_acc)\n",
    "best_max_depth = depth_hyperparams[best_depth_index]\n",
    "\n",
    "print(f\"Best max_depth: {best_max_depth}\")"
   ]
  },
  {
   "cell_type": "code",
   "execution_count": 84,
   "id": "918f5d88",
   "metadata": {},
   "outputs": [
    {
     "data": {
      "text/plain": [
       "DecisionTreeClassifier(max_depth=5, random_state=42)"
      ]
     },
     "execution_count": 84,
     "metadata": {},
     "output_type": "execute_result"
    }
   ],
   "source": [
    "#retraing the model with best max_depth\n",
    "model_1 = DecisionTreeClassifier(max_depth=best_max_depth, random_state=42)\n",
    "model_1.fit(X_train, y_train)"
   ]
  },
  {
   "cell_type": "code",
   "execution_count": 86,
   "id": "10dbc9fb",
   "metadata": {},
   "outputs": [
    {
     "name": "stdout",
     "output_type": "stream",
     "text": [
      "Train Accuracy: 0.86\n",
      "Test Accuracy: 0.81\n"
     ]
    }
   ],
   "source": [
    "act_train = model_1.score(X_train, y_train)\n",
    "test_acc = model.score(X_test, y_test)\n",
    "print(\"Train Accuracy:\", round(act_train, 2))\n",
    "print(\"Test Accuracy:\", round(test_acc, 2))"
   ]
  },
  {
   "cell_type": "code",
   "execution_count": 87,
   "id": "b84b4e8a",
   "metadata": {},
   "outputs": [
    {
     "data": {
      "text/plain": [
       "array([0, 0, 0, 0, 0, 0, 0, 0, 0, 0, 1, 1, 1, 0, 0, 0, 0, 0, 0, 0, 0, 0,\n",
       "       0, 0, 0, 0, 0, 0, 0, 0, 0, 0, 0, 0, 0, 1, 0, 0, 0, 0, 0, 1, 0, 0,\n",
       "       0, 0, 0, 0, 0, 0, 0, 0, 0, 0, 1, 0, 0, 0, 0, 0, 0, 0, 0, 0, 0, 0,\n",
       "       0, 0, 0, 0, 0, 0, 1, 0, 0, 0, 0, 0, 0, 0, 0, 0, 0, 0, 0, 1, 0, 1,\n",
       "       0, 0, 0, 0, 0, 0, 0, 0, 0, 0, 0, 0], dtype=int64)"
      ]
     },
     "execution_count": 87,
     "metadata": {},
     "output_type": "execute_result"
    }
   ],
   "source": [
    "test_pred = model_1.predict(X_test)\n",
    "test_pred[:100]"
   ]
  },
  {
   "cell_type": "code",
   "execution_count": 95,
   "id": "60db6800",
   "metadata": {},
   "outputs": [
    {
     "name": "stdout",
     "output_type": "stream",
     "text": [
      "Features: Index(['credit_score', 'age', 'tenure'], dtype='object')\n",
      "Importances: [0.00859111 0.43537216 0.00196137]\n"
     ]
    }
   ],
   "source": [
    "#getting the feature importances\n",
    "features = X_train.columns\n",
    "importances = model_1.feature_importances_\n",
    "\n",
    "print(\"Features:\", features[:3])\n",
    "print(\"Importances:\", importances[:3])"
   ]
  },
  {
   "cell_type": "code",
   "execution_count": 97,
   "id": "00376834",
   "metadata": {},
   "outputs": [
    {
     "data": {
      "text/plain": [
       "credit_card         0.000000\n",
       "tenure              0.001961\n",
       "credit_score        0.008591\n",
       "estimated_salary    0.017780\n",
       "balance             0.028032\n",
       "active_member       0.168955\n",
       "products_number     0.339308\n",
       "age                 0.435372\n",
       "dtype: float64"
      ]
     },
     "execution_count": 97,
     "metadata": {},
     "output_type": "execute_result"
    }
   ],
   "source": [
    "feat_imp = pd.Series(importances, index=features).sort_values()\n",
    "feat_imp.head(10)"
   ]
  },
  {
   "cell_type": "code",
   "execution_count": 98,
   "id": "c4e6690f",
   "metadata": {},
   "outputs": [
    {
     "data": {
      "image/png": "[encoded data removed]",
      "text/plain": [
       "<Figure size 640x480 with 1 Axes>"
      ]
     },
     "metadata": {},
     "output_type": "display_data"
    }
   ],
   "source": [
    "# Create horizontal bar chart\n",
    "feat_imp.plot(kind=\"barh\"),\n",
    "plt.xlabel(\"Gini importance\"),\n",
    "plt.ylabel(\"features\");"
   ]
  },
  {
   "cell_type": "code",
   "execution_count": null,
   "id": "339684cf",
   "metadata": {},
   "outputs": [],
   "source": []
  }
 ],
 "metadata": {
  "kernelspec": {
   "display_name": "Python 3 (ipykernel)",
   "language": "python",
   "name": "python3"
  },
  "language_info": {
   "codemirror_mode": {
    "name": "ipython",
    "version": 3
   },
   "file_extension": ".py",
   "mimetype": "text/x-python",
   "name": "python",
   "nbconvert_exporter": "python",
   "pygments_lexer": "ipython3",
   "version": "3.7.9"
  }
 },
 "nbformat": 4,
 "nbformat_minor": 5
}
